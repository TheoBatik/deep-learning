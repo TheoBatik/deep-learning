{
 "cells": [
  {
   "cell_type": "markdown",
   "metadata": {},
   "source": [
    "### Imports and setup"
   ]
  },
  {
   "cell_type": "code",
   "execution_count": 73,
   "metadata": {},
   "outputs": [],
   "source": [
    "import keras as ker\n",
    "from keras.datasets import reuters\n",
    "from keras import models\n",
    "from keras import layers\n",
    "import numpy as np\n",
    "import matplotlib.pyplot as plt"
   ]
  },
  {
   "cell_type": "code",
   "execution_count": 3,
   "metadata": {},
   "outputs": [],
   "source": [
    "n = 500 #10000\n",
    "(train_data, train_labels), (test_data, test_labels) = reuters.load_data(\n",
    "num_words = n) "
   ]
  },
  {
   "cell_type": "markdown",
   "metadata": {},
   "source": [
    "train_data and test_data are made up of lists of intergers, where each integer corresponds to a word in a dictionary. n sets the number of most frequenctly used words to be included. \n",
    "train_labels and test_labels carry single integers, where each interger corresponds to one of 46 mutually exclusive topics. https://keras.io/api/datasets/reuters/. To find out what each of the topics are check out https://github.com/keras-team/keras/issues/12072."
   ]
  },
  {
   "cell_type": "code",
   "execution_count": 49,
   "metadata": {},
   "outputs": [],
   "source": [
    "# len(train_data)\n",
    "# len(test_data)"
   ]
  },
  {
   "cell_type": "markdown",
   "metadata": {},
   "source": [
    "### Decoding the newswires back to text"
   ]
  },
  {
   "cell_type": "code",
   "execution_count": 5,
   "metadata": {},
   "outputs": [
    {
     "name": "stdout",
     "output_type": "stream",
     "text": [
      "? ? ? ? ? lt ? ? and lt ? ? corp of ? have each ? 50 pct ? in ? company ? ? ? ? ? ? said in a statement it ? no financial ? of the ? ? ? ? ? in 1986 was 17 5 billion ? ? reuter 3\n"
     ]
    }
   ],
   "source": [
    "newswire_number = 1\n",
    "word_index = reuters.get_word_index()\n",
    "reverse_word_index = dict([(value, key) for (key, value) in word_index.items()])\n",
    "decoded_newswire = ' '.join([reverse_word_index.get(i - 3, '?') for i in\n",
    "train_data[newswire_number]])\n",
    "print(decoded_newswire)"
   ]
  },
  {
   "cell_type": "markdown",
   "metadata": {},
   "source": [
    "### Preparing the data"
   ]
  },
  {
   "cell_type": "code",
   "execution_count": 54,
   "metadata": {},
   "outputs": [],
   "source": [
    "def vectorize_sequences(sequences, dimension=n):\n",
    "    results = np.zeros((len(sequences), dimension))\n",
    "    for i, sequence in enumerate(sequences):\n",
    "        results[i, sequence] = 1 # This discards the number of times that a most frequently use word was used.\n",
    "    return results \n",
    "x_train = vectorize_sequences(train_data)\n",
    "x_test = vectorize_sequences(test_data)\n"
   ]
  },
  {
   "cell_type": "markdown",
   "metadata": {},
   "source": [
    "All input data is now of the same size. We also need to vectorize the label, which we will do using categorical encoding..."
   ]
  },
  {
   "cell_type": "code",
   "execution_count": 69,
   "metadata": {},
   "outputs": [],
   "source": [
    "def to_one_hot(labels, dimension=46):\n",
    "    results = np.zeros((len(labels), dimension))\n",
    "    for i, label in enumerate(labels):\n",
    "        results[i, label] = 1.\n",
    "    return results\n",
    "one_hot_train_labels = to_one_hot(train_labels)\n",
    "one_hot_test_labels = to_one_hot(test_labels)"
   ]
  },
  {
   "cell_type": "markdown",
   "metadata": {},
   "source": [
    "Note, there is a built-in way to do this on Keras. "
   ]
  },
  {
   "cell_type": "code",
   "execution_count": 56,
   "metadata": {},
   "outputs": [],
   "source": [
    "# from keras.utils.np_utils import to_categorical\n",
    "# one_hot_train_labels = to_categorical(train_labels)\n",
    "# one_hot_test_labels = to_categorical(test_labels)"
   ]
  },
  {
   "cell_type": "markdown",
   "metadata": {},
   "source": [
    "### Building the network\n",
    "For the binary classification problem, the dimensionality of our ouptut space was just 2. Now, the dimensionality is 46. For this reason, having intermediate layers with a dimensionality less than 46 could create an information bottleneck. We will thus choose to have two hidden layers of dimensionality 64."
   ]
  },
  {
   "cell_type": "code",
   "execution_count": 63,
   "metadata": {},
   "outputs": [],
   "source": [
    " model = models.Sequential()\n",
    "model.add(layers.Dense(64, activation='relu', input_shape=(n,)))\n",
    "model.add(layers.Dense(64, activation='relu'))\n",
    "model.add(layers.Dense(46, activation='softmax'))"
   ]
  },
  {
   "cell_type": "markdown",
   "metadata": {},
   "source": [
    "The 46 dimensional softmax output layer ensures that output[i] is the propability that the given input belongs to class i. \n",
    "\n",
    "Compiling the model: the best loss function to use here is the categorical_crossentropy because it gives a measure of the distance between two probability distributions. "
   ]
  },
  {
   "cell_type": "code",
   "execution_count": 64,
   "metadata": {},
   "outputs": [],
   "source": [
    "model.compile(optimizer='rmsprop', loss='categorical_crossentropy', metrics=['accuracy'])"
   ]
  },
  {
   "cell_type": "markdown",
   "metadata": {},
   "source": [
    "### Validation\n",
    "\n",
    "First, we set aside 1,000 samples in the training data to use as a validation set. To properly understand the distinction between a validation dataset and test dataset read this post https://machinelearningmastery.com/difference-test-validation-datasets/."
   ]
  },
  {
   "cell_type": "code",
   "execution_count": 68,
   "metadata": {},
   "outputs": [],
   "source": [
    "x_val = x_train[:1000]\n",
    "partial_x_train = x_train[1000:]\n",
    "y_val = one_hot_train_labels[:1000]\n",
    "partial_y_train = one_hot_train_labels[1000:]"
   ]
  },
  {
   "cell_type": "code",
   "execution_count": 70,
   "metadata": {},
   "outputs": [
    {
     "name": "stdout",
     "output_type": "stream",
     "text": [
      "Train on 7982 samples, validate on 1000 samples\n",
      "Epoch 1/20\n",
      "7982/7982 [==============================] - 3s 325us/step - loss: 2.8358 - accuracy: 0.4320 - val_loss: 2.0616 - val_accuracy: 0.5520\n",
      "Epoch 2/20\n",
      "7982/7982 [==============================] - 0s 28us/step - loss: 1.8143 - accuracy: 0.5957 - val_loss: 1.6234 - val_accuracy: 0.6270\n",
      "Epoch 3/20\n",
      "7982/7982 [==============================] - 0s 40us/step - loss: 1.5206 - accuracy: 0.6610 - val_loss: 1.4441 - val_accuracy: 0.6680\n",
      "Epoch 4/20\n",
      "7982/7982 [==============================] - 0s 33us/step - loss: 1.3599 - accuracy: 0.6984 - val_loss: 1.3209 - val_accuracy: 0.6980\n",
      "Epoch 5/20\n",
      "7982/7982 [==============================] - 0s 29us/step - loss: 1.2451 - accuracy: 0.7241 - val_loss: 1.2540 - val_accuracy: 0.7130\n",
      "Epoch 6/20\n",
      "7982/7982 [==============================] - 0s 26us/step - loss: 1.1563 - accuracy: 0.7434 - val_loss: 1.1884 - val_accuracy: 0.7340\n",
      "Epoch 7/20\n",
      "7982/7982 [==============================] - 0s 26us/step - loss: 1.0850 - accuracy: 0.7608 - val_loss: 1.1357 - val_accuracy: 0.7520\n",
      "Epoch 8/20\n",
      "7982/7982 [==============================] - 0s 25us/step - loss: 1.0193 - accuracy: 0.7710 - val_loss: 1.1428 - val_accuracy: 0.7360\n",
      "Epoch 9/20\n",
      "7982/7982 [==============================] - 0s 25us/step - loss: 0.9661 - accuracy: 0.7838 - val_loss: 1.0606 - val_accuracy: 0.7600\n",
      "Epoch 10/20\n",
      "7982/7982 [==============================] - 0s 25us/step - loss: 0.9180 - accuracy: 0.7879 - val_loss: 1.0373 - val_accuracy: 0.7720\n",
      "Epoch 11/20\n",
      "7982/7982 [==============================] - 0s 27us/step - loss: 0.8760 - accuracy: 0.7942 - val_loss: 1.0147 - val_accuracy: 0.7740\n",
      "Epoch 12/20\n",
      "7982/7982 [==============================] - 0s 25us/step - loss: 0.8376 - accuracy: 0.8036 - val_loss: 1.0083 - val_accuracy: 0.7770\n",
      "Epoch 13/20\n",
      "7982/7982 [==============================] - 0s 29us/step - loss: 0.8028 - accuracy: 0.8088 - val_loss: 0.9894 - val_accuracy: 0.7780\n",
      "Epoch 14/20\n",
      "7982/7982 [==============================] - 0s 29us/step - loss: 0.7672 - accuracy: 0.8168 - val_loss: 0.9853 - val_accuracy: 0.7770\n",
      "Epoch 15/20\n",
      "7982/7982 [==============================] - ETA: 0s - loss: 0.7331 - accuracy: 0.82 - 0s 31us/step - loss: 0.7361 - accuracy: 0.8221 - val_loss: 0.9716 - val_accuracy: 0.7810\n",
      "Epoch 16/20\n",
      "7982/7982 [==============================] - 0s 36us/step - loss: 0.7085 - accuracy: 0.8276 - val_loss: 0.9662 - val_accuracy: 0.7750\n",
      "Epoch 17/20\n",
      "7982/7982 [==============================] - 0s 33us/step - loss: 0.6805 - accuracy: 0.8312 - val_loss: 0.9607 - val_accuracy: 0.7850\n",
      "Epoch 18/20\n",
      "7982/7982 [==============================] - 0s 29us/step - loss: 0.6584 - accuracy: 0.8356 - val_loss: 0.9675 - val_accuracy: 0.7800\n",
      "Epoch 19/20\n",
      "7982/7982 [==============================] - 0s 30us/step - loss: 0.6357 - accuracy: 0.8421 - val_loss: 0.9686 - val_accuracy: 0.7850\n",
      "Epoch 20/20\n",
      "7982/7982 [==============================] - 0s 29us/step - loss: 0.6184 - accuracy: 0.8430 - val_loss: 0.9538 - val_accuracy: 0.7850\n"
     ]
    }
   ],
   "source": [
    "history = model.fit(partial_x_train, partial_y_train, epochs=20, batch_size=512, validation_data=(x_val, y_val))"
   ]
  },
  {
   "cell_type": "markdown",
   "metadata": {},
   "source": [
    "###### Plotting the validation and training loss"
   ]
  },
  {
   "cell_type": "code",
   "execution_count": 84,
   "metadata": {},
   "outputs": [
    {
     "data": {
      "image/png": "[encoded data removed]",
      "text/plain": [
       "<Figure size 432x288 with 1 Axes>"
      ]
     },
     "metadata": {
      "needs_background": "light"
     },
     "output_type": "display_data"
    }
   ],
   "source": [
    "loss = history.history['loss']\n",
    "val_loss = history.history['val_loss']\n",
    "epochs = range(1, len(loss) + 1)\n",
    "plt.plot(epochs, loss, 'bo', label='Training loss')\n",
    "plt.plot(epochs, val_loss, 'b', label='Validation loss')\n",
    "plt.title('Training and validation loss')\n",
    "plt.xlabel('Epochs')\n",
    "plt.ylabel('Loss')\n",
    "plt.legend()\n",
    "plt.show()"
   ]
  },
  {
   "cell_type": "markdown",
   "metadata": {},
   "source": [
    "###### Plotting the validation and training accuracy"
   ]
  },
  {
   "cell_type": "code",
   "execution_count": 85,
   "metadata": {},
   "outputs": [
    {
     "data": {
      "image/png": "[encoded data removed]",
      "text/plain": [
       "<Figure size 432x288 with 1 Axes>"
      ]
     },
     "metadata": {
      "needs_background": "light"
     },
     "output_type": "display_data"
    }
   ],
   "source": [
    "acc = history.history['accuracy']\n",
    "val_acc = history.history['val_accuracy']\n",
    "plt.plot(epochs, acc, 'bo', label='Training acc')\n",
    "plt.plot(epochs, val_acc, 'b', label='Validation acc')\n",
    "plt.title('Training and validation accuracy')\n",
    "plt.xlabel('Epochs')\n",
    "plt.ylabel('Loss')\n",
    "plt.legend()\n",
    "plt.show()"
   ]
  },
  {
   "cell_type": "markdown",
   "metadata": {},
   "source": [
    "### Generating predictions on new data"
   ]
  },
  {
   "cell_type": "code",
   "execution_count": 86,
   "metadata": {},
   "outputs": [],
   "source": [
    "predictions = model.predict(x_test)"
   ]
  },
  {
   "cell_type": "markdown",
   "metadata": {},
   "source": [
    "Each entry in predictions is a vector of length 46. For example, "
   ]
  },
  {
   "cell_type": "code",
   "execution_count": 92,
   "metadata": {},
   "outputs": [
    {
     "data": {
      "text/plain": [
       "(46,)"
      ]
     },
     "execution_count": 92,
     "metadata": {},
     "output_type": "execute_result"
    }
   ],
   "source": [
    "i = 0\n",
    "predictions[i].shape"
   ]
  },
  {
   "cell_type": "markdown",
   "metadata": {},
   "source": [
    "The elements of this vector sum one 1, which confirms that the softmax output generates a probability distribution over the 46 topics."
   ]
  },
  {
   "cell_type": "code",
   "execution_count": 93,
   "metadata": {},
   "outputs": [
    {
     "data": {
      "text/plain": [
       "1.0000004"
      ]
     },
     "execution_count": 93,
     "metadata": {},
     "output_type": "execute_result"
    }
   ],
   "source": [
    "np.sum(predictions[i])"
   ]
  },
  {
   "cell_type": "markdown",
   "metadata": {},
   "source": [
    "The largest entry corresponds to the class with the highest probability."
   ]
  },
  {
   "cell_type": "code",
   "execution_count": 94,
   "metadata": {},
   "outputs": [
    {
     "data": {
      "text/plain": [
       "3"
      ]
     },
     "execution_count": 94,
     "metadata": {},
     "output_type": "execute_result"
    }
   ],
   "source": [
    "np.argmax(predictions[i])"
   ]
  },
  {
   "cell_type": "code",
   "execution_count": 96,
   "metadata": {},
   "outputs": [
    {
     "name": "stdout",
     "output_type": "stream",
     "text": [
      "? ? ? said as a result of its december acquisition of ? co it expects earnings per share in 1987 of 1 15 to 1 30 dlrs per share up from 70 cts in 1986 the company said ? net should rise to nine to 10 mln dlrs from six mln dlrs in 1986 and ? ? ? to 19 to 22 mln dlrs from 12 5 mln dlrs it said cash ? per share this year should be 2 50 to three dlrs reuter 3\n"
     ]
    }
   ],
   "source": [
    "decoded_newswire = ' '.join([reverse_word_index.get(i - 3, '?') for i in\n",
    "train_data[i]])\n",
    "print(decoded_newswire)"
   ]
  },
  {
   "cell_type": "markdown",
   "metadata": {},
   "source": [
    "### A different way to handle to labels and loss"
   ]
  },
  {
   "cell_type": "code",
   "execution_count": 1,
   "metadata": {},
   "outputs": [],
   "source": [
    "# y_train = np.array(train_labels)\n",
    "# y_test = np.array(test_labels)"
   ]
  },
  {
   "cell_type": "markdown",
   "metadata": {},
   "source": [
    "If we take this appraoch, then we would need to alter the loss function to a sparse_categorical_crossentropy. "
   ]
  },
  {
   "cell_type": "code",
   "execution_count": 2,
   "metadata": {},
   "outputs": [
    {
     "ename": "NameError",
     "evalue": "name 'model' is not defined",
     "output_type": "error",
     "traceback": [
      "\u001b[1;31m---------------------------------------------------------------------------\u001b[0m",
      "\u001b[1;31mNameError\u001b[0m                                 Traceback (most recent call last)",
      "\u001b[1;32m<ipython-input-2-d9565d84fc1d>\u001b[0m in \u001b[0;36m<module>\u001b[1;34m\u001b[0m\n\u001b[1;32m----> 1\u001b[1;33m \u001b[0mmodel\u001b[0m\u001b[1;33m.\u001b[0m\u001b[0mcompile\u001b[0m\u001b[1;33m(\u001b[0m\u001b[0moptimizer\u001b[0m\u001b[1;33m=\u001b[0m\u001b[1;34m'rmsprop'\u001b[0m\u001b[1;33m,\u001b[0m \u001b[0mloss\u001b[0m\u001b[1;33m=\u001b[0m\u001b[1;34m'sparse_categorical_crossentropy'\u001b[0m\u001b[1;33m,\u001b[0m \u001b[0mmetrics\u001b[0m\u001b[1;33m=\u001b[0m\u001b[1;33m[\u001b[0m\u001b[1;34m'acc'\u001b[0m\u001b[1;33m]\u001b[0m\u001b[1;33m)\u001b[0m\u001b[1;33m\u001b[0m\u001b[1;33m\u001b[0m\u001b[0m\n\u001b[0m",
      "\u001b[1;31mNameError\u001b[0m: name 'model' is not defined"
     ]
    }
   ],
   "source": [
    "model.compile(optimizer='rmsprop', loss='sparse_categorical_crossentropy', metrics=['acc'])"
   ]
  },
  {
   "cell_type": "markdown",
   "metadata": {},
   "source": [
    "### Experimenting with the dimension and number of the hidden layers\n",
    "\n",
    "With a hidden-layer of dimension less than 46, we will create an information bottleneck:"
   ]
  },
  {
   "cell_type": "code",
   "execution_count": 3,
   "metadata": {},
   "outputs": [
    {
     "ename": "NameError",
     "evalue": "name 'models' is not defined",
     "output_type": "error",
     "traceback": [
      "\u001b[1;31m---------------------------------------------------------------------------\u001b[0m",
      "\u001b[1;31mNameError\u001b[0m                                 Traceback (most recent call last)",
      "\u001b[1;32m<ipython-input-3-e8459ccb669e>\u001b[0m in \u001b[0;36m<module>\u001b[1;34m\u001b[0m\n\u001b[0;32m      1\u001b[0m \u001b[1;31m# Architecture\u001b[0m\u001b[1;33m\u001b[0m\u001b[1;33m\u001b[0m\u001b[1;33m\u001b[0m\u001b[0m\n\u001b[1;32m----> 2\u001b[1;33m \u001b[0mmodel\u001b[0m \u001b[1;33m=\u001b[0m \u001b[0mmodels\u001b[0m\u001b[1;33m.\u001b[0m\u001b[0mSequential\u001b[0m\u001b[1;33m(\u001b[0m\u001b[1;33m)\u001b[0m\u001b[1;33m\u001b[0m\u001b[1;33m\u001b[0m\u001b[0m\n\u001b[0m\u001b[0;32m      3\u001b[0m \u001b[0mmodel\u001b[0m\u001b[1;33m.\u001b[0m\u001b[0madd\u001b[0m\u001b[1;33m(\u001b[0m\u001b[0mlayers\u001b[0m\u001b[1;33m.\u001b[0m\u001b[0mDense\u001b[0m\u001b[1;33m(\u001b[0m\u001b[1;36m64\u001b[0m\u001b[1;33m,\u001b[0m \u001b[0mactivation\u001b[0m\u001b[1;33m=\u001b[0m\u001b[1;34m'relu'\u001b[0m\u001b[1;33m,\u001b[0m \u001b[0minput_shape\u001b[0m\u001b[1;33m=\u001b[0m\u001b[1;33m(\u001b[0m\u001b[0mn\u001b[0m\u001b[1;33m,\u001b[0m\u001b[1;33m)\u001b[0m\u001b[1;33m)\u001b[0m\u001b[1;33m)\u001b[0m\u001b[1;33m\u001b[0m\u001b[1;33m\u001b[0m\u001b[0m\n\u001b[0;32m      4\u001b[0m \u001b[0mmodel\u001b[0m\u001b[1;33m.\u001b[0m\u001b[0madd\u001b[0m\u001b[1;33m(\u001b[0m\u001b[0mlayers\u001b[0m\u001b[1;33m.\u001b[0m\u001b[0mDense\u001b[0m\u001b[1;33m(\u001b[0m\u001b[1;36m4\u001b[0m\u001b[1;33m,\u001b[0m \u001b[0mactivation\u001b[0m\u001b[1;33m=\u001b[0m\u001b[1;34m'relu'\u001b[0m\u001b[1;33m)\u001b[0m\u001b[1;33m)\u001b[0m \u001b[1;31m#Here is the bottleneck!\u001b[0m\u001b[1;33m\u001b[0m\u001b[1;33m\u001b[0m\u001b[0m\n\u001b[0;32m      5\u001b[0m \u001b[0mmodel\u001b[0m\u001b[1;33m.\u001b[0m\u001b[0madd\u001b[0m\u001b[1;33m(\u001b[0m\u001b[0mlayers\u001b[0m\u001b[1;33m.\u001b[0m\u001b[0mDense\u001b[0m\u001b[1;33m(\u001b[0m\u001b[1;36m46\u001b[0m\u001b[1;33m,\u001b[0m \u001b[0mactivation\u001b[0m\u001b[1;33m=\u001b[0m\u001b[1;34m'softmax'\u001b[0m\u001b[1;33m)\u001b[0m\u001b[1;33m)\u001b[0m\u001b[1;33m\u001b[0m\u001b[1;33m\u001b[0m\u001b[0m\n",
      "\u001b[1;31mNameError\u001b[0m: name 'models' is not defined"
     ]
    }
   ],
   "source": [
    "# Architecture \n",
    "model = models.Sequential()\n",
    "model.add(layers.Dense(64, activation='relu', input_shape=(n,)))\n",
    "model.add(layers.Dense(4, activation='relu')) #Here is the bottleneck! \n",
    "model.add(layers.Dense(46, activation='softmax'))\n",
    "# Compiling \n",
    "model.compile(optimizer='rmsprop', loss='categorical_crossentropy', metrics=['accuracy'])\n",
    "# Fitting\n",
    "model.fit(partial_x_train, partial_y_train, epochs=20, batch_size=128, validation_data=(x_val, y_val))"
   ]
  },
  {
   "cell_type": "markdown",
   "metadata": {},
   "source": [
    "As expected, the accuracy drops drastically! "
   ]
  },
  {
   "cell_type": "markdown",
   "metadata": {},
   "source": [
    "### Wrapping up"
   ]
  },
  {
   "cell_type": "markdown",
   "metadata": {},
   "source": [
    "The take home messages of this example are:\n",
    "* When trying to classify data points into _N_ classes, the network should end with a _dense_ layer of size _N_.\n",
    "* For single-label, multiclass classification problem the network should end with a softmax activation function to produce a probability distribution over the _N_ classes. \n",
    "* For these types of problems, the *categorical_crossentropy* is almost always the loss function of choice.\n",
    "* There are two ways to handle labels in multiclass classification:\n",
    "    * Encoding the labels via categorical encoding (also known as one-hot encoding) and using *categorical_crossentropy* as a loss function\n",
    "    * Encoding the labels as integers and using the *sparse_categorical_crossentropy* loss function\n",
    "* Avoid information bottlenecks!"
   ]
  },
  {
   "cell_type": "code",
   "execution_count": null,
   "metadata": {},
   "outputs": [],
   "source": []
  }
 ],
 "metadata": {
  "kernelspec": {
   "display_name": "Python 3",
   "language": "python",
   "name": "python3"
  },
  "language_info": {
   "codemirror_mode": {
    "name": "ipython",
    "version": 3
   },
   "file_extension": ".py",
   "mimetype": "text/x-python",
   "name": "python",
   "nbconvert_exporter": "python",
   "pygments_lexer": "ipython3",
   "version": "3.7.7"
  }
 },
 "nbformat": 4,
 "nbformat_minor": 4
}
