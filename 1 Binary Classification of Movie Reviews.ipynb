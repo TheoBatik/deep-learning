{
 "cells": [
  {
   "cell_type": "markdown",
   "metadata": {},
   "source": [
    "### Imports"
   ]
  },
  {
   "cell_type": "code",
   "execution_count": 1,
   "metadata": {},
   "outputs": [
    {
     "name": "stderr",
     "output_type": "stream",
     "text": [
      "Using TensorFlow backend.\n"
     ]
    }
   ],
   "source": [
    "import keras as ker\n",
    "# Import the imbd-dataset - movie reviews from the Internet Movie Database\n",
    "from keras.datasets import imdb\n",
    "import numpy as np"
   ]
  },
  {
   "cell_type": "code",
   "execution_count": 2,
   "metadata": {},
   "outputs": [],
   "source": [
    "# number of most frequently used words taken\n",
    "n = 5000 #10000\n",
    "(train_data, train_labels), (test_data, test_labels) = imdb.load_data(\n",
    "num_words=n)"
   ]
  },
  {
   "cell_type": "code",
   "execution_count": 3,
   "metadata": {},
   "outputs": [],
   "source": [
    "# Decoding the review\n",
    "word_index = imdb.get_word_index()\n",
    "reverse_word_index = dict( [(value, key) for (key, value) in word_index.items()])\n",
    "decoded_review = ' '.join( [reverse_word_index.get(i - 3, '?') for i in train_data[0]])"
   ]
  },
  {
   "cell_type": "markdown",
   "metadata": {},
   "source": [
    "### Preparing the data\n",
    "The lists of intergers need to be turned into tensors. We will one-hot encode the lists to turn them into vectors of 0s and 1s."
   ]
  },
  {
   "cell_type": "code",
   "execution_count": 4,
   "metadata": {},
   "outputs": [
    {
     "name": "stdout",
     "output_type": "stream",
     "text": [
      "25000\n"
     ]
    }
   ],
   "source": [
    "def vectorize_sequences(sequences, dimension=n):\n",
    "    results = np.zeros((len(sequences), dimension))\n",
    "    for i, sequence in enumerate(sequences):\n",
    "        results[i, sequence] = 1.\n",
    "    return results\n",
    "x_train = vectorize_sequences(train_data)\n",
    "x_test = vectorize_sequences(test_data)\n",
    "y_train = np.asarray(train_labels).astype('float32')\n",
    "y_test = np.asarray(test_labels).astype('float32')\n",
    "print(len(x_test))"
   ]
  },
  {
   "cell_type": "markdown",
   "metadata": {},
   "source": [
    "### Architecture "
   ]
  },
  {
   "cell_type": "code",
   "execution_count": 5,
   "metadata": {},
   "outputs": [],
   "source": [
    "from keras import models\n",
    "from keras import layers\n",
    "model = models.Sequential()\n",
    "model.add(layers.Dense(16, activation='relu', input_shape=(n,)))\n",
    "model.add(layers.Dense(16, activation='relu'))\n",
    "model.add(layers.Dense(1, activation='sigmoid'))"
   ]
  },
  {
   "cell_type": "markdown",
   "metadata": {},
   "source": [
    "### Loss function & optimizer\n",
    "A binary crossentropy will work here, since our output is a probability. As for the optimizer we choose rmsprop."
   ]
  },
  {
   "cell_type": "code",
   "execution_count": 6,
   "metadata": {},
   "outputs": [],
   "source": [
    "model.compile(optimizer='rmsprop', loss='binary_crossentropy', metrics=['acc'])"
   ]
  },
  {
   "cell_type": "markdown",
   "metadata": {},
   "source": [
    "We can configure the parameters of the optimizer or pass a custom loss function or metric function in the following way:"
   ]
  },
  {
   "cell_type": "code",
   "execution_count": 7,
   "metadata": {},
   "outputs": [],
   "source": [
    "# from keras import optimizers\n",
    "# from keras import losses\n",
    "# from keras import metrics\n",
    "\n",
    "# model.compile(optimizer=optimizers.RMSprop(lr=0.001),\n",
    "# loss='binary_crossentropy',\n",
    "# metrics=['accuracy'])\n",
    "# model.compile(optimizer=optimizers.RMSprop(lr=0.001),\n",
    "# loss=losses.binary_crossentropy,\n",
    "# metrics=[metrics.binary_accuracy])"
   ]
  },
  {
   "cell_type": "markdown",
   "metadata": {},
   "source": [
    "### Creating a validation set\n",
    "To properly understand the distinction between a validation dataset and test dataset read this post https://machinelearningmastery.com/difference-test-validation-datasets/."
   ]
  },
  {
   "cell_type": "code",
   "execution_count": 8,
   "metadata": {},
   "outputs": [],
   "source": [
    "x_val = x_train[:n]\n",
    "partial_x_train = x_train[n:]\n",
    "y_val = y_train[:n]\n",
    "partial_y_train = y_train[n:]"
   ]
  },
  {
   "cell_type": "markdown",
   "metadata": {},
   "source": [
    "### Training"
   ]
  },
  {
   "cell_type": "code",
   "execution_count": 9,
   "metadata": {},
   "outputs": [
    {
     "name": "stdout",
     "output_type": "stream",
     "text": [
      "Train on 20000 samples, validate on 5000 samples\n",
      "Epoch 1/20\n",
      " 1536/20000 [=>............................] - ETA: 2:46 - loss: 0.6911 - acc: 0.5534"
     ]
    },
    {
     "name": "stderr",
     "output_type": "stream",
     "text": [
      "C:\\Users\\Theo\\Anaconda3\\envs\\tensorflow-sessions\\lib\\site-packages\\keras\\callbacks\\callbacks.py:95: RuntimeWarning: Method (on_train_batch_end) is slow compared to the batch update (0.187819). Check your callbacks.\n",
      "  % (hook_name, delta_t_median), RuntimeWarning)\n"
     ]
    },
    {
     "name": "stdout",
     "output_type": "stream",
     "text": [
      "20000/20000 [==============================] - 27s 1ms/step - loss: 0.5130 - acc: 0.7954 - val_loss: 0.3959 - val_acc: 0.8628\n",
      "Epoch 2/20\n",
      "20000/20000 [==============================] - 3s 125us/step - loss: 0.3188 - acc: 0.8903 - val_loss: 0.3062 - val_acc: 0.8806\n",
      "Epoch 3/20\n",
      "20000/20000 [==============================] - 2s 114us/step - loss: 0.2513 - acc: 0.9100 - val_loss: 0.2838 - val_acc: 0.8864\n",
      "Epoch 4/20\n",
      "20000/20000 [==============================] - 2s 111us/step - loss: 0.2175 - acc: 0.9200 - val_loss: 0.2830 - val_acc: 0.8908\n",
      "Epoch 5/20\n",
      "20000/20000 [==============================] - 2s 104us/step - loss: 0.1959 - acc: 0.9275 - val_loss: 0.2985 - val_acc: 0.8864\n",
      "Epoch 6/20\n",
      "20000/20000 [==============================] - 2s 103us/step - loss: 0.1806 - acc: 0.9333 - val_loss: 0.3019 - val_acc: 0.8816\n",
      "Epoch 7/20\n",
      "20000/20000 [==============================] - 2s 104us/step - loss: 0.1677 - acc: 0.9388 - val_loss: 0.3207 - val_acc: 0.8754\n",
      "Epoch 8/20\n",
      "20000/20000 [==============================] - 2s 103us/step - loss: 0.1559 - acc: 0.9420 - val_loss: 0.3762 - val_acc: 0.8692\n",
      "Epoch 9/20\n",
      "20000/20000 [==============================] - 2s 104us/step - loss: 0.1456 - acc: 0.9456 - val_loss: 0.3310 - val_acc: 0.8814\n",
      "Epoch 10/20\n",
      "20000/20000 [==============================] - 2s 106us/step - loss: 0.1348 - acc: 0.9507 - val_loss: 0.3469 - val_acc: 0.8748\n",
      "Epoch 11/20\n",
      "20000/20000 [==============================] - 2s 108us/step - loss: 0.1255 - acc: 0.9549 - val_loss: 0.3648 - val_acc: 0.8772\n",
      "Epoch 12/20\n",
      "20000/20000 [==============================] - 2s 106us/step - loss: 0.1178 - acc: 0.9587 - val_loss: 0.3672 - val_acc: 0.8740\n",
      "Epoch 13/20\n",
      "20000/20000 [==============================] - 2s 106us/step - loss: 0.1078 - acc: 0.9627 - val_loss: 0.3844 - val_acc: 0.8706\n",
      "Epoch 14/20\n",
      "20000/20000 [==============================] - 2s 106us/step - loss: 0.0971 - acc: 0.9675 - val_loss: 0.4114 - val_acc: 0.8676\n",
      "Epoch 15/20\n",
      "20000/20000 [==============================] - 2s 109us/step - loss: 0.0912 - acc: 0.9689 - val_loss: 0.4053 - val_acc: 0.8704\n",
      "Epoch 16/20\n",
      "20000/20000 [==============================] - 2s 107us/step - loss: 0.0841 - acc: 0.9727 - val_loss: 0.4241 - val_acc: 0.8718\n",
      "Epoch 17/20\n",
      "20000/20000 [==============================] - 2s 107us/step - loss: 0.0737 - acc: 0.9776 - val_loss: 0.4447 - val_acc: 0.8662\n",
      "Epoch 18/20\n",
      "20000/20000 [==============================] - 2s 101us/step - loss: 0.0700 - acc: 0.9779 - val_loss: 0.4877 - val_acc: 0.8592\n",
      "Epoch 19/20\n",
      "20000/20000 [==============================] - 2s 105us/step - loss: 0.0588 - acc: 0.9832 - val_loss: 0.5111 - val_acc: 0.8640\n",
      "Epoch 20/20\n",
      "20000/20000 [==============================] - 2s 111us/step - loss: 0.0547 - acc: 0.9844 - val_loss: 0.5626 - val_acc: 0.8594\n"
     ]
    }
   ],
   "source": [
    "history = model.fit(partial_x_train, partial_y_train, epochs=20, batch_size=512, validation_data=(x_val, y_val))"
   ]
  },
  {
   "cell_type": "markdown",
   "metadata": {},
   "source": [
    "### Plotting the training and validation loss\n",
    "Note that the call to model.fit() returns a History object. This object has a member history, which is a dictionary containing data about everything that happened\n",
    "during training."
   ]
  },
  {
   "cell_type": "code",
   "execution_count": 27,
   "metadata": {},
   "outputs": [],
   "source": [
    "import matplotlib.pyplot as plt\n",
    "history_dict = history.history #Alternatively, it would makse sense to call this \"loss.\"\n",
    "#history_dict.keys()"
   ]
  },
  {
   "cell_type": "code",
   "execution_count": 28,
   "metadata": {},
   "outputs": [
    {
     "data": {
      "image/png": "[encoded data removed]",
      "text/plain": [
       "<Figure size 432x288 with 1 Axes>"
      ]
     },
     "metadata": {
      "needs_background": "light"
     },
     "output_type": "display_data"
    }
   ],
   "source": [
    "loss_values = history_dict['loss']\n",
    "val_loss_values = history_dict['val_loss']\n",
    "epochs = range(1, len(acc) + 1)\n",
    "plt.plot(epochs, loss_values, 'bo', label='Training loss')\n",
    "plt.plot(epochs, val_loss_values, 'b', label='Validation loss')\n",
    "plt.title('Training and validation loss')\n",
    "plt.xlabel('Epochs')\n",
    "plt.ylabel('Loss')\n",
    "plt.legend()\n",
    "plt.show()"
   ]
  },
  {
   "cell_type": "markdown",
   "metadata": {},
   "source": [
    "### Plotting the training and validation accuracy "
   ]
  },
  {
   "cell_type": "code",
   "execution_count": 32,
   "metadata": {},
   "outputs": [
    {
     "data": {
      "image/png": "[encoded data removed]",
      "text/plain": [
       "<Figure size 432x288 with 1 Axes>"
      ]
     },
     "metadata": {
      "needs_background": "light"
     },
     "output_type": "display_data"
    }
   ],
   "source": [
    "val_acc_values = history_dict['val_acc']\n",
    "acc = history_dict['acc']\n",
    "plt.plot(epochs, acc, 'bo', label='Training acc')\n",
    "plt.plot(epochs, val_acc_values, 'b', label='Validation acc')\n",
    "plt.title('Training and validation accuracy')\n",
    "plt.xlabel('Epochs')\n",
    "plt.ylabel('Loss')\n",
    "plt.legend()\n",
    "plt.show()"
   ]
  },
  {
   "cell_type": "markdown",
   "metadata": {},
   "source": [
    "Of course, with the training loss / accuracy, we see a steady decrease / increase. However, the validation loss and accuracy jump around. This is because a model that performs better on the training data isn’t necessarily a model that will do\n",
    "better on data it has never seen before. The model may become overfitted to the training data, in such a way that it does not generalize to the validation set. "
   ]
  },
  {
   "cell_type": "markdown",
   "metadata": {},
   "source": [
    "### Making predictions on new data\n",
    "\n",
    "To make predictions on the test_data we use the predict method."
   ]
  },
  {
   "cell_type": "code",
   "execution_count": 13,
   "metadata": {},
   "outputs": [
    {
     "data": {
      "text/plain": [
       "array([[0.03961685],\n",
       "       [1.        ],\n",
       "       [0.9969261 ],\n",
       "       ...,\n",
       "       [0.13616139],\n",
       "       [0.01945108],\n",
       "       [0.9819488 ]], dtype=float32)"
      ]
     },
     "execution_count": 13,
     "metadata": {},
     "output_type": "execute_result"
    }
   ],
   "source": [
    "model.predict(x_test)"
   ]
  },
  {
   "cell_type": "code",
   "execution_count": 14,
   "metadata": {},
   "outputs": [
    {
     "name": "stdout",
     "output_type": "stream",
     "text": [
      "range(1, 21)\n"
     ]
    }
   ],
   "source": []
  },
  {
   "cell_type": "code",
   "execution_count": null,
   "metadata": {},
   "outputs": [],
   "source": []
  }
 ],
 "metadata": {
  "kernelspec": {
   "display_name": "Python 3",
   "language": "python",
   "name": "python3"
  },
  "language_info": {
   "codemirror_mode": {
    "name": "ipython",
    "version": 3
   },
   "file_extension": ".py",
   "mimetype": "text/x-python",
   "name": "python",
   "nbconvert_exporter": "python",
   "pygments_lexer": "ipython3",
   "version": "3.7.7"
  }
 },
 "nbformat": 4,
 "nbformat_minor": 4
}
